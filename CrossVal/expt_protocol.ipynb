{
 "cells": [
  {
   "cell_type": "markdown",
   "metadata": {},
   "source": [
    "# A results oriented view: double loop validation"
   ]
  },
  {
   "cell_type": "markdown",
   "metadata": {},
   "source": [
    "Model selection is one of the basic skills needed by a machine learning practitioner. This notebook introduces a frequentist approach for model selection based on cross validation. Instead of considering the standard perspective of using a \"double loop\" for training and prediction of classifiers, we consider an alternative perspective of identifying the results that need to be produced.\n",
    "\n",
    "We consider the question of *\"Which classifier is better on my favourite datasets?\"*\n",
    "As an example, we use three well known datasets: [ionosphere](https://archive.ics.uci.edu/ml/datasets/Ionosphere), [bupa](https://archive.ics.uci.edu/ml/datasets/Liver+Disorders), [pima](https://archive.ics.uci.edu/ml/datasets/Pima+Indians+Diabetes); which are binary classification tasks. We will use two classifiers from [scikit-learn](http://scikit-learn.org/), the support vector machine (SVM) and the random forest (RF)."
   ]
  },
  {
   "cell_type": "markdown",
   "metadata": {},
   "source": [
    "#### Setting up python environment ([do not use pylab](http://carreau.github.io/posts/10-No-PyLab-Thanks.ipynb.html))"
   ]
  },
  {
   "cell_type": "code",
   "execution_count": null,
   "metadata": {
    "collapsed": false
   },
   "outputs": [],
   "source": [
    "import matplotlib.pyplot as plt\n",
    "import numpy as np\n",
    "import pandas as pd\n",
    "%matplotlib inline"
   ]
  },
  {
   "cell_type": "markdown",
   "metadata": {},
   "source": [
    "## Cross validation and hold out sets"
   ]
  },
  {
   "cell_type": "markdown",
   "metadata": {},
   "source": [
    "Validation is a popular method for estimating generalisation error in machine learning. There are many resources available that describe it (for example [this FAQ](http://www.faqs.org/faqs/ai-faq/neural-nets/part3/section-11.html)), and why it is important to optimise for generalisation error and not training error. Please [look these up](http://lmgtfy.com/?q=generalisation+error+validation) if you are not familiar with this concept. The key idea is that we need to set some data aside that was not used for estimating the model so that we can properly measure the performance of our classifier. In particular we will use two strategies for keeping data aside:\n",
    "\n",
    "* split sample or hold out validation\n",
    "* cross validation\n",
    "\n",
    "In split sample validation, a random subset of the data is held out for testing and the remaining data is used for training. To obtain multiple validation splits, the process is just repeated. For cross validation (for example 5 fold cross validation), the data is split into 5 pieces, and 4 of the pieces are used for training and 1 piece is used for validation. By considering each of the 5 pieces as a validation set in turn, we obtain 5 training/test splits that give us 5 estimates of validation error."
   ]
  },
  {
   "cell_type": "markdown",
   "metadata": {},
   "source": [
    "## Conventions used in this notebook"
   ]
  },
  {
   "cell_type": "markdown",
   "metadata": {},
   "source": [
    "#### The problem of model selection\n",
    "\n",
    "Machine learning algorithms often have parameters that need to be tuned. In the example below, we consider the support vector machine, where we have to tune the regularisation parameter $C$ and the Gaussian kernel bandwidth $\\sigma$. How do we choose the best parameters? Well, by checking which parameters performs best on a validation set! If we only have one layer of validation, then we no longer have any data left to estimate the performance of this classifier with the best parameters.\n",
    "\n",
    "#### Training, validation and test sets\n",
    "\n",
    "It quickly becomes confusing when we think about how to do model selection. When reading literature about this issue, different words are used. For convenience, we will refer to the data that is used to train a classifier as **training set**, the data used for model selection as **validation set**, and the data used to report the final performance of the classifier as **test set**.\n",
    "\n",
    "#### A recommended double loop strategy\n",
    "\n",
    "We will use random splits to separate data into (training, validation) and (test) sets, and use cross validation for the \"inner loop\" of model selection that splits data into the (training) and (validation) sets. This makes the variable naming easier as we can refer to the iterates of the outer loop as *splits*, and the inner loop as *folds*."
   ]
  },
  {
   "cell_type": "markdown",
   "metadata": {},
   "source": [
    "## Comparing SVM and random forest"
   ]
  },
  {
   "cell_type": "markdown",
   "metadata": {},
   "source": [
    "We would like to see whether the SVM is better or the random forest is better on the ionosphere data. We do so using the following experimental protocol:\n",
    "\n",
    "* 10 random splits, with 30% of the data reserved for testing\n",
    "* 5 fold cross validation to tune hyperparameters\n",
    "* accuracy as a performance measure\n",
    "\n",
    "In our imaginary paper, we would like to have a figure containing boxplots for a particular dataset."
   ]
  },
  {
   "cell_type": "code",
   "execution_count": null,
   "metadata": {
    "collapsed": false
   },
   "outputs": [],
   "source": [
    "from IPython.display import Image\n",
    "Image('dummy_perf.png')"
   ]
  },
  {
   "cell_type": "markdown",
   "metadata": {},
   "source": [
    "The (imaginary) data used to generate this plot would be a matrix with two columns, one each for SVM and RF. Each column would contain the accuracy for each random split of the data. So for 10 splits, this means we have 10 rows. Note that this is only for one single dataset, and we would have 6 columns in total since we are considering three datasets. [Pandas](http://pandas.pydata.org/) provides a very useful concept of DataFrames, which would be familiar to people used to R."
   ]
  },
  {
   "cell_type": "code",
   "execution_count": null,
   "metadata": {
    "collapsed": false
   },
   "outputs": [],
   "source": [
    "datasets = ['bupa','ionosphere','pima']\n",
    "methods = ['rf','svm']\n",
    "num_splits = 10\n",
    "split_idx = range(num_splits)\n",
    "col_idx = pd.MultiIndex.from_product([datasets, methods], names=['dataset','method'])\n",
    "# Create a dataframe with col_idx columns and split_idx rows\n",
    "accuracy = pd.DataFrame(columns=col_idx, index=split_idx)\n",
    "accuracy.index.name = 'split'\n",
    "print(accuracy)"
   ]
  },
  {
   "cell_type": "markdown",
   "metadata": {},
   "source": [
    "The SVM has a regularisation parameter that needs to be set, and potentially its kernel also has parameters. As mentioned before, this is done using an inner loop. What is the information that is needed? For each split and dataset, we need to store the best (hyper)parameters of the SVM. Note that different parameters may be best for different splits of the data."
   ]
  },
  {
   "cell_type": "code",
   "execution_count": null,
   "metadata": {
    "collapsed": false
   },
   "outputs": [],
   "source": [
    "params = ['C','sigma']\n",
    "col_idx = pd.MultiIndex.from_product([datasets, params], names=['dataset','param'])\n",
    "best_param = pd.DataFrame(columns=col_idx, index=split_idx)\n",
    "best_param.index.name = 'split'\n",
    "print(best_param)"
   ]
  },
  {
   "cell_type": "markdown",
   "metadata": {},
   "source": [
    "What needs to be done to find these best parameters? We need to fill in a table that contains the accuracy of five fold cross validation for each combination of parameters. Note that we only need to do this for SVM"
   ]
  },
  {
   "cell_type": "code",
   "execution_count": null,
   "metadata": {
    "collapsed": false
   },
   "outputs": [],
   "source": [
    "Cs = [0.1, 1., 10.0]\n",
    "sigmas = [1e-2, 1e-1]\n",
    "num_cv = 5\n",
    "folds = range(5)\n",
    "col_idx = pd.MultiIndex.from_product([datasets, Cs, sigmas], names=['dataset','C','sigma'])\n",
    "row_idx = pd.MultiIndex.from_product([split_idx, folds], names=['split','fold'])\n",
    "cv_accuracy = pd.DataFrame(columns=col_idx, index=row_idx)\n",
    "print(cv_accuracy.head(13))"
   ]
  },
  {
   "cell_type": "markdown",
   "metadata": {},
   "source": [
    "That is all there is for the conceptual part of the double loop procedure for doing model selection with the inner loop and then using the best parameters for each split to estimate the performance on the test set. Therefore all we need to do now is implement the code to fill in the values in the dataframes appropriately."
   ]
  },
  {
   "cell_type": "markdown",
   "metadata": {},
   "source": [
    "## Experimental protocol (implementation details)"
   ]
  },
  {
   "cell_type": "markdown",
   "metadata": {},
   "source": [
    "### Implementation of data splitting for validation"
   ]
  },
  {
   "cell_type": "markdown",
   "metadata": {},
   "source": [
    "Recall that for split sample validation, a random subset of the data is held out for testing and the remaining data is used for training. To obtain multiple validation splits, the process is just repeated. For cross validation (for example 5 fold cross validation), the data is split into 5 pieces, and 4 of the pieces are used for training and 1 piece is used for validation. By considering each of the 5 pieces as a validation set in turn, we obtain 5 training/test splits that give us 5 estimates of validation error."
   ]
  },
  {
   "cell_type": "code",
   "execution_count": null,
   "metadata": {
    "collapsed": false
   },
   "outputs": [],
   "source": [
    "def random_split(orig_idx, split_idx, frac_train=0.7):\n",
    "    \"\"\"Returns training and prediction indices which are subsets of orig_idx.\n",
    "    split_idx is for reproducibility of the random permutation.\n",
    "    \n",
    "    np.random.RandomState is not portable between machines.\n",
    "    \"\"\"\n",
    "    prng = np.random.RandomState(split_idx)\n",
    "    num_data = len(orig_idx)\n",
    "    num_train = np.round(frac_train*num_data)\n",
    "    perm_idx = prng.permutation(num_data)\n",
    "    train_idx = orig_idx[perm_idx[:num_train]]\n",
    "    pred_idx = orig_idx[perm_idx[num_train:]]\n",
    "    return train_idx, pred_idx\n",
    "\n",
    "def cross_val(orig_idx, fold, num_cv=5):\n",
    "    \"\"\"Returns training and prediction indices of cross validation,\n",
    "    for fold 'fold' in num_cv.\n",
    "    \"\"\"\n",
    "    num_data = len(orig_idx)\n",
    "    train = []\n",
    "    pred = []\n",
    "    for ix in range(num_data):\n",
    "        if ix % num_cv == fold:\n",
    "            pred.append(ix)\n",
    "        else:\n",
    "            train.append(ix)\n",
    "    train_idx = orig_idx[np.array(train)]\n",
    "    pred_idx = orig_idx[np.array(pred)]\n",
    "    return train_idx, pred_idx\n",
    "\n",
    "orig_idx = np.arange(20, dtype=int)\n",
    "print(random_split(orig_idx, 1))\n",
    "print(random_split(orig_idx, 4))\n",
    "print(random_split(orig_idx, 1))\n",
    "print(cross_val(orig_idx, 0))\n",
    "print(cross_val(orig_idx, 3))"
   ]
  },
  {
   "cell_type": "markdown",
   "metadata": {},
   "source": [
    "#### A recommended double loop strategy\n",
    "\n",
    "We will use random splits to separate data into (training, validation) and (test) sets, and use cross validation for the \"inner loop\" of model selection that splits data into the (training) and (validation) sets."
   ]
  },
  {
   "cell_type": "code",
   "execution_count": null,
   "metadata": {
    "collapsed": false
   },
   "outputs": [],
   "source": [
    "# Split data into (training,validation) and (test) sets\n",
    "split_train_val, split_test = random_split(orig_idx, 1)\n",
    "# First fold of the cross validation\n",
    "train_idx, pred_idx = cross_val(split_train_val,0)\n",
    "print(train_idx, pred_idx)\n",
    "# Second fold of the cross validation\n",
    "train_idx, pred_idx = cross_val(split_train_val,1)\n",
    "print(train_idx, pred_idx)\n"
   ]
  },
  {
   "cell_type": "markdown",
   "metadata": {},
   "source": [
    "### Interface to classifier\n",
    "\n",
    "We have hidden away the complexity of the classifier in a separate file. In particular, there is only one common interface, which is a train_and_predict function. All this function needs to know is the dataset under consideration, the index of the training and prediction instances, the classifier to be used, and hyperparameter values (if any).\n",
    "\n",
    "    def train_and_predict(data_name, train_idx, pred_idx, method, C=None, sigma=None, verbose=False):\n",
    "        \"\"\"Work out which classifier to call on data_name.\n",
    "        Then train the classifier, and predict on the validation set.\n",
    "\n",
    "        return the accuracy of the classifier on the prediction set.\n",
    "        \"\"\"\n"
   ]
  },
  {
   "cell_type": "markdown",
   "metadata": {},
   "source": [
    "## The actual code that does the computations"
   ]
  },
  {
   "cell_type": "markdown",
   "metadata": {},
   "source": [
    "We summarise the setup that we have:\n",
    "\n",
    "* manage the indices of examples to be used for training and prediction\n",
    "* an interface to train a classifer and predict on the prediction set\n",
    "\n",
    "For random forest, there is no need for any hyperparameter selection, so we can directly fill in the final accuracy results."
   ]
  },
  {
   "cell_type": "code",
   "execution_count": null,
   "metadata": {
    "collapsed": false
   },
   "outputs": [],
   "source": [
    "from classifier import train_and_predict\n",
    "\n",
    "idx = pd.IndexSlice\n",
    "num_ex = {'bupa': 345, 'ionosphere': 351, 'pima': 768}\n",
    "for data_name in datasets:\n",
    "    orig_idx = np.arange(num_ex[data_name], dtype=int)\n",
    "    for split in split_idx:\n",
    "        train_idx, pred_idx = random_split(orig_idx, split)\n",
    "        acc = train_and_predict(data_name, train_idx, pred_idx, 'rf')\n",
    "        accuracy.loc[split,idx[data_name,'rf']] = acc\n",
    "print(accuracy)"
   ]
  },
  {
   "cell_type": "markdown",
   "metadata": {},
   "source": [
    "The SVM requires an inner loop for finding the best parameters"
   ]
  },
  {
   "cell_type": "code",
   "execution_count": null,
   "metadata": {
    "collapsed": false
   },
   "outputs": [],
   "source": [
    "for data_name in datasets:\n",
    "    orig_idx = np.arange(num_ex[data_name], dtype=int)\n",
    "    for split in split_idx:\n",
    "        tv_idx, test_idx = random_split(orig_idx, split)\n",
    "        for fold in folds:\n",
    "            train_idx, pred_idx = cross_val(tv_idx, fold)\n",
    "            for C in Cs:\n",
    "                for sigma in sigmas:\n",
    "                    acc = train_and_predict(data_name, train_idx, pred_idx, 'svm', C=C, sigma=sigma)\n",
    "                    cv_accuracy.loc[idx[split,fold],idx[data_name,C,sigma]] = acc\n",
    "print(cv_accuracy.head())"
   ]
  },
  {
   "cell_type": "markdown",
   "metadata": {},
   "source": [
    "Now that we have all the values for the inner loop, we can collect the best parameters for each split."
   ]
  },
  {
   "cell_type": "code",
   "execution_count": null,
   "metadata": {
    "collapsed": false
   },
   "outputs": [],
   "source": [
    "def find_best_param(cv_accuracy, dataset, split):\n",
    "    \"\"\"Given the (inner) cross validation accuracies for all parameters,\n",
    "    find the parameters that give the best average performance.\n",
    "    \"\"\"\n",
    "    idx = pd.IndexSlice\n",
    "    cv = cv_accuracy.loc[idx[split],idx[dataset]]\n",
    "    avg_cv = cv.mean(axis=0)\n",
    "    best_param = avg_cv.argmax()\n",
    "    return best_param\n"
   ]
  },
  {
   "cell_type": "code",
   "execution_count": null,
   "metadata": {
    "collapsed": false
   },
   "outputs": [],
   "source": [
    "for data_name in datasets:\n",
    "    for split in split_idx:\n",
    "        C, sigma = find_best_param(cv_accuracy, data_name, split)\n",
    "        best_param.loc[split, idx[data_name,'C']] = C\n",
    "        best_param.loc[split, idx[data_name,'sigma']] = sigma\n",
    "print(best_param)"
   ]
  },
  {
   "cell_type": "markdown",
   "metadata": {},
   "source": [
    "Note that different splits could have different optimal parameters. As an important aside, it is good to reflect on what conclusions you can draw by looking at the boxplots of accuracy. There are really multiple classifiers here, and not just one single SVM. Not only are the training data different, but the parameters are different too. Now we are ready to train the final SVMs."
   ]
  },
  {
   "cell_type": "code",
   "execution_count": null,
   "metadata": {
    "collapsed": false
   },
   "outputs": [],
   "source": [
    "for data_name in datasets:\n",
    "    orig_idx = np.arange(num_ex[data_name], dtype=int)\n",
    "    for split in split_idx:\n",
    "        train_idx, pred_idx = random_split(orig_idx, split)\n",
    "        C = best_param.loc[split, idx[data_name,'C']]\n",
    "        sigma = best_param.loc[split, idx[data_name,'sigma']]\n",
    "        acc = train_and_predict(data_name, train_idx, pred_idx, 'svm', C=C, sigma=sigma)\n",
    "        accuracy.loc[split,idx[data_name,'svm']] = acc\n",
    "print(accuracy)"
   ]
  },
  {
   "cell_type": "markdown",
   "metadata": {},
   "source": [
    "**That's it!**. The results of the experiment are in the above table. We can visualise this table as boxplots."
   ]
  },
  {
   "cell_type": "code",
   "execution_count": null,
   "metadata": {
    "collapsed": false
   },
   "outputs": [],
   "source": [
    "fig, axes = plt.subplots(1, 3, sharey=True, figsize=(8,6))\n",
    "axes[0].set_ylabel('Accuracy')\n",
    "for ix,data_name in enumerate(datasets):\n",
    "    ax = axes[ix]\n",
    "    acc = accuracy.loc[:,data_name].as_matrix()\n",
    "    ax.boxplot([list(acc[:,0]), list(acc[:,1])])\n",
    "    ax.set_xticklabels(methods, rotation=60)\n",
    "    ax.set_title(data_name)\n",
    "    ax.set_ylim(bottom=0.55, top=1.)\n",
    "    ax.yaxis.grid(True)\n",
    "fig.suptitle('Performance comparison of SVM and random forest')"
   ]
  }
 ],
 "metadata": {},
 "nbformat": 4,
 "nbformat_minor": 0
}
