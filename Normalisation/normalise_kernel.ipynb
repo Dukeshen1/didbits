{
 "cells": [
  {
   "cell_type": "markdown",
   "metadata": {},
   "source": [
    "# Normalisation of the kernel matrix"
   ]
  },
  {
   "cell_type": "markdown",
   "metadata": {},
   "source": [
    "Setting up the environment ([do not use pylab](http://carreau.github.io/posts/10-No-PyLab-Thanks.ipynb.html))\n",
    "\n",
    "$\\newcommand{\\dotprod}[2]{\\langle #1 , #2 \\rangle}$"
   ]
  },
  {
   "cell_type": "code",
   "execution_count": null,
   "metadata": {
    "collapsed": false
   },
   "outputs": [],
   "source": [
    "import matplotlib.pyplot as plt\n",
    "from matplotlib import cm\n",
    "import numpy as np\n",
    "import gzip\n",
    "\n",
    "%matplotlib inline"
   ]
  },
  {
   "cell_type": "markdown",
   "metadata": {},
   "source": [
    "## Normalisation\n",
    "\n",
    "We illustrate 4 normalisation methods:\n",
    "1. Normalise individual values to [0,1]\n",
    "2. Center data in feature space (mean in feature space is the zero vector)\n",
    "4. Make the diagonal all ones\n",
    "5. Unit variance in feature space\n",
    "\n",
    "The first method is self explanatory.\n"
   ]
  },
  {
   "cell_type": "code",
   "execution_count": null,
   "metadata": {
    "collapsed": false
   },
   "outputs": [],
   "source": [
    "def normalise_01(K):\n",
    "    \"\"\"Normalise values of kernel matrix to have smallest value 0 and largest value 1.\"\"\"\n",
    "    smallest = np.min(K)\n",
    "    largest = np.max(K)\n",
    "    return (K - smallest)/(largest-smallest)\n",
    "\n"
   ]
  },
  {
   "cell_type": "markdown",
   "metadata": {},
   "source": [
    "In the following, we use the fact that kernels ($k(\\cdot, \\cdot)$) are inner products in a feature space with feature mapping $\\phi(\\cdot)$:\n",
    "$$k(x,y) = \\dotprod{\\phi(x)}{\\phi(y)}$$\n",
    "\n",
    "### Centering\n",
    "\n",
    "Centering causes the mean of the data set to be the zero vector in feature space.\n",
    "For more details, refer to Chapter 5 of the book [Kernel Methods for Pattern Analysis](http://www.kernel-methods.net/)\n",
    "\n",
    "Since $\\phi(x)$ lives in a vector space, we can compute the mean vector as usual\n",
    "$$\n",
    "\\mu = \\frac{1}{n}\\sum_{i=1}^n \\phi(x_i)\n",
    "$$\n",
    "and subtract is off from each data point\n",
    "$$\n",
    "\\hat{\\phi}(x) = \\phi(x) - \\mu.\n",
    "$$\n",
    "Hence the normalised kernel can be computed with a bit of algebra\n",
    "\\begin{align*}\n",
    "\\hat{k}(x,y) &= \\dotprod{\\hat{\\phi}(x)}{\\hat{\\phi}(y)}\\\\\n",
    "    &= \\dotprod{\\phi(x) - \\mu}{\\phi(y) - \\mu}\n",
    "\\end{align*}\n",
    "by recalling the definition of $\\mu$ and expanding the quadratic.\n"
   ]
  },
  {
   "cell_type": "code",
   "execution_count": null,
   "metadata": {
    "collapsed": false
   },
   "outputs": [],
   "source": [
    "def center(K):\n",
    "    \"\"\"Center the kernel matrix, such that the mean (in feature space) is zero.\"\"\"\n",
    "    one_mat = np.matrix(np.ones(K.shape))\n",
    "    one_vec = np.matrix(np.ones((K.shape[0],1)))\n",
    "\n",
    "    row_sum = np.matrix(np.mean(K,axis=0)).T\n",
    "    R = K - row_sum * one_vec.T - one_vec * row_sum.T +\\\n",
    "        np.mean(row_sum.A)*one_mat\n",
    "    return R\n",
    "\n"
   ]
  },
  {
   "cell_type": "markdown",
   "metadata": {},
   "source": [
    "### Unit diagonal\n",
    "\n",
    "It is often convenient to have all the examples to be represented by vectors of the same length. This implies that the diagonal of the kernel matrix (the squared length) is the same for all examples. We arbitrarily (without loss of generality) set this length to 1.\n",
    "\\begin{align*}\n",
    "\\hat{k}(x,y) &= \\dotprod{\\frac{\\phi(x)}{\\|\\phi(x)\\|}}{\\frac{\\phi(y)}{\\|\\phi(y)\\|}}\\\\\n",
    "    &= \\frac{1}{\\|\\phi(x)\\|\\|\\phi(y)\\|}\\dotprod{\\phi(x)}{\\phi(y)}\\\\\n",
    "    &= \\frac{1}{\\|\\phi(x)\\|\\|\\phi(y)\\|} k(x,y)\n",
    "\\end{align*}\n",
    "\n",
    "Normalizing the kernel matrix such that it has one along the diagonal is sometimes called trace normalisation or spherical normalisation.\n"
   ]
  },
  {
   "cell_type": "code",
   "execution_count": null,
   "metadata": {
    "collapsed": false
   },
   "outputs": [],
   "source": [
    "def normalise_unit_diag(K):\n",
    "    \"\"\"Normalise the kernel matrix, such that all diagonal entries are 1.\"\"\"\n",
    "    Kii = np.diag(K)\n",
    "    Kii.shape = (len(Kii),1)\n",
    "    return np.divide(K, np.sqrt(np.matrix(Kii)*np.matrix(Kii).T))\n",
    "\n"
   ]
  },
  {
   "cell_type": "markdown",
   "metadata": {},
   "source": [
    "### Unit variance\n",
    "\n",
    "We would like to enforce the fact that the variance of the vectors in feature space is 1.\n",
    "$$\\frac{1}{n}\\sum_{i=1}^n \\|\\hat{\\phi}(x) - \\mu \\|^2 = 1$$\n",
    "where $\\mu$ is the mean as defined in the centering section. In terms of kernels, this is\n",
    "$$\\frac{1}{n}\\sum_{i=1}^n \\hat{k}(x_i,x_i) -  \\frac{1}{n^2}\\sum_{i=1}^n\\sum_{j=1}^n \\hat{k}(x_i,x_j)= 1$$\n",
    "so the final normalisation rule is\n",
    "$$\n",
    "\\hat{k}(x_i,x_j) = \\frac{k(x_i,x_j)}{\\frac{1}{n}\\sum_{i=1}^n k(x_i,x_i) -  \\frac{1}{n^2}\\sum_{i=1}^n\\sum_{j=1}^n k(x_i,x_j)}\n",
    "$$\n",
    "\n",
    "Note that in case the kernel is centered,\n",
    "￼￼the above rule simplifies to \n",
    "$$\\hat{k}(x_i, x_j) = \\frac{k(x_i,x_j)}{\\frac{1}{n}\\mathrm{tr}(K)}$$\n",
    "where $\\mathrm{tr}(K) = \\sum_{i=1}^n k(x_i ,x_i)$ is the trace of\n",
    "the kernel matrix $K$.\n",
    "\n",
    "Reference:\n",
    "Kloft, Brefeld, Sonnenburg, Zein, \"$\\ell_p$-Norm Multiple Kernel Learning\" Journal of Machine Learning Research 12 (2011) 953-997\n"
   ]
  },
  {
   "cell_type": "code",
   "execution_count": null,
   "metadata": {
    "collapsed": false
   },
   "outputs": [],
   "source": [
    "def normalise_variance(K):\n",
    "    \"\"\"Normalise the kernel matrix, such that the variance (in feature space) is 1\"\"\"\n",
    "    one_vec = np.matrix(np.ones((K.shape[0],1)))\n",
    "    inv_sqrt_diag = np.divide(one_vec, np.matrix(np.sqrt(np.diag(K))).T)\n",
    "    KN = np.multiply(np.kron(one_vec.T,inv_sqrt_diag),K)\n",
    "    KN = np.multiply(np.kron(one_vec,inv_sqrt_diag.T),K)\n",
    "    return KN\n"
   ]
  },
  {
   "cell_type": "markdown",
   "metadata": {},
   "source": [
    "## Kernels and distances\n",
    "\n",
    "Since kernels always have dot products in some corresponding feature space, there is a associated distance. Recall that a kernel is given by:\n",
    "$$k(x,y) = \\dotprod{\\phi(x)}{\\phi(y)}$$\n",
    "Consider the squared distance in the feature space:\n",
    "\\begin{align*}\n",
    "    \\| \\phi(x) - \\phi(y)\\|^2 &= \\dotprod{\\phi(x)}{\\phi(x)}+ \\dotprod{\\phi(y)}{\\phi(y)}- 2\\dotprod{\\phi(x)}{\\phi(y)}\\\\\n",
    "    &= k(\\phi(x),\\phi(x)) + k(\\phi(y),\\phi(y))- 2k(\\phi(x),\\phi(y))\n",
    "\\end{align*}\n",
    "hence the corresponding distance is given by:\n",
    "$$\n",
    "d(x,y) = \\sqrt{k(\\phi(x),\\phi(x)) + k(\\phi(y),\\phi(y))- 2k(\\phi(x),\\phi(y))}\n",
    "$$\n",
    "Since human intuition seems to work better with distances (as compared to similarities), we also show the matrices for distances.\n"
   ]
  },
  {
   "cell_type": "code",
   "execution_count": null,
   "metadata": {
    "collapsed": false
   },
   "outputs": [],
   "source": [
    "def kernel2distance(K):\n",
    "    \"\"\"Convert the kernel matrix into the corresponding non-Euclidean distance.\"\"\"\n",
    "    D = np.zeros(K.shape)\n",
    "    for ix in range(K.shape[0]):\n",
    "        for iy in range(K.shape[1]):\n",
    "            sqr_dist = K[ix,ix] + K[iy,iy] - 2*K[ix,iy]\n",
    "            if sqr_dist > 0.0:\n",
    "                D[ix,iy] = np.sqrt(sqr_dist)\n",
    "    return D\n"
   ]
  },
  {
   "cell_type": "markdown",
   "metadata": {},
   "source": [
    "## Generate Gaussian point clouds\n",
    "\n",
    "For illustration purposes, we generate three Gaussian point clouds with different numbers of sizes and compute the linear kernel (the standard dot product)."
   ]
  },
  {
   "cell_type": "code",
   "execution_count": null,
   "metadata": {
    "collapsed": false
   },
   "outputs": [],
   "source": [
    "def cloud_gen(num_feat, num_points, centers, width):\n",
    "    \"\"\"Generate Gaussian point clouds\"\"\"\n",
    "    total_points = np.sum(num_points)\n",
    "    data = np.zeros((num_feat, total_points))\n",
    "    start_idx = 0\n",
    "    for ix, center in enumerate(centers):\n",
    "        C = np.array(center).copy()\n",
    "        C.shape = (len(center),1)\n",
    "        cur_data = C*np.ones((num_feat, num_points[ix])) + width*np.random.randn(num_feat, num_points[ix])\n",
    "        end_idx = start_idx + num_points[ix]\n",
    "        data[:,start_idx:end_idx] = cur_data.copy()\n",
    "        start_idx = end_idx\n",
    "    return data\n",
    "\n",
    "centers = [[1,1,1],[0,0,np.sqrt(3)],[0,0,0]]\n",
    "X = cloud_gen(3, [10,15,25], centers, 0.3)\n",
    "print('Shape of data')\n",
    "print(X.shape)\n",
    "raw_kmat = np.dot(X.T,X)\n"
   ]
  },
  {
   "cell_type": "markdown",
   "metadata": {},
   "source": [
    "## Visualising the effect of different normalisations\n",
    "\n",
    "**For visualising kernel matrices it is important to [choose good color maps](https://jakevdp.github.io/blog/2014/10/16/how-bad-is-your-colormap/).**\n",
    "\n",
    "The left column shows the kernel matrix, and the right column the distance matrix. Each row shows respectively:\n",
    "1. Original matrix\n",
    "2. Normalised individual values to [0,1]\n",
    "3. Centered\n",
    "4. Centered and diagonal all ones\n",
    "5. Unit variance\n"
   ]
  },
  {
   "cell_type": "code",
   "execution_count": null,
   "metadata": {
    "collapsed": false
   },
   "outputs": [],
   "source": [
    "fig = plt.figure(figsize=(12,28))\n",
    "ax = fig.add_subplot(521)\n",
    "im = ax.matshow(raw_kmat, cmap=cm.winter)\n",
    "ax.set_title('original kernel')\n",
    "fig.colorbar(im)\n",
    "ax = fig.add_subplot(522)\n",
    "ax.set_title('original distance')\n",
    "im = ax.matshow(kernel2distance(raw_kmat), cmap=cm.autumn)\n",
    "fig.colorbar(im)\n",
    "\n",
    "ax = fig.add_subplot(523)\n",
    "im = ax.matshow(normalise_01(raw_kmat), cmap=cm.winter)\n",
    "ax.set_title('normalise [0,1]')\n",
    "fig.colorbar(im)\n",
    "ax = fig.add_subplot(524)\n",
    "im = ax.matshow(kernel2distance(normalise_01(raw_kmat)), cmap=cm.autumn)\n",
    "fig.colorbar(im)\n",
    "\n",
    "ax = fig.add_subplot(525)\n",
    "im = ax.matshow(center(raw_kmat), cmap=cm.winter)\n",
    "ax.set_title('zero mean in feature space')\n",
    "fig.colorbar(im)\n",
    "ax = fig.add_subplot(526)\n",
    "im = ax.matshow(kernel2distance(center(raw_kmat)), cmap=cm.autumn)\n",
    "fig.colorbar(im)\n",
    "\n",
    "ax = fig.add_subplot(527)\n",
    "im = ax.matshow(normalise_unit_diag(center(raw_kmat)), cmap=cm.winter)\n",
    "ax.set_title('Ones along the diagonal')\n",
    "fig.colorbar(im)\n",
    "ax = fig.add_subplot(528)\n",
    "im = ax.matshow(kernel2distance(normalise_unit_diag(center(raw_kmat))), cmap=cm.autumn)\n",
    "fig.colorbar(im)\n",
    "\n",
    "ax = fig.add_subplot(529)\n",
    "im = ax.matshow(normalise_variance(center(raw_kmat)), cmap=cm.winter)\n",
    "ax.set_title('Unit variance in feature space')\n",
    "fig.colorbar(im)\n",
    "ax = fig.add_subplot(5,2,10)\n",
    "im = ax.matshow(kernel2distance(normalise_variance(center(raw_kmat))), cmap=cm.autumn)\n",
    "fig.colorbar(im)\n"
   ]
  },
  {
   "cell_type": "code",
   "execution_count": null,
   "metadata": {
    "collapsed": false
   },
   "outputs": [],
   "source": []
  }
 ],
 "metadata": {
  "kernelspec": {
   "display_name": "Python 3",
   "language": "python",
   "name": "python3"
  },
  "language_info": {
   "codemirror_mode": {
    "name": "ipython",
    "version": 3
   },
   "file_extension": ".py",
   "mimetype": "text/x-python",
   "name": "python",
   "nbconvert_exporter": "python",
   "pygments_lexer": "ipython3",
   "version": "3.4.4"
  }
 },
 "nbformat": 4,
 "nbformat_minor": 0
}
