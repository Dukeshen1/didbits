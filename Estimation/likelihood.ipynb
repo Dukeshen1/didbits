{
 "cells": [
  {
   "cell_type": "markdown",
   "metadata": {},
   "source": [
    "# Estimating parameters from data\n",
    "\n",
    "We review the statistical view of parameter estimation from data, in increasing generality:\n",
    "* Least squares error\n",
    "* Maximum likelihood\n",
    "* Method of moments\n",
    "* M-estimation\n",
    "* Estimating equations\n",
    "\n",
    "The method of moments turns out to be inefficient, and one can additionally find the estimator with minimal variance, resulting in the [Generalised method of moments](https://en.wikipedia.org/wiki/Generalized_method_of_moments).\n",
    "\n",
    "When there are unknown correlations between the labels, one can additionally optimise over these correlations in the estimating equations, resulting in [Generalised estimating equations](https://en.wikipedia.org/wiki/Generalized_estimating_equation)."
   ]
  },
  {
   "cell_type": "markdown",
   "metadata": {},
   "source": [
    "## General problem setup\n",
    "\n",
    "Assume we have $D$ dimensional examples, i.e. $x_n\\in\\mathbb{R}^D$ and a scalar label $y_n\\in\\mathbb{R}$. We consider\n",
    "the supervised learning setting, where we obtain pairs $(x_1, y_1), \\ldots, (x_N, y_N)$. Given this data, we would like to estimate a predictor $f(\\cdot, \\theta): \\mathbb{R}^D \\to \\mathbb{R}$, parameterised by $\\theta$. We hope to\n",
    "be able to find a good parameter $\\theta^*$ such that we fit the data well\n",
    "$$\n",
    "f(x_n, \\theta^*) \\approx y_n \\quad\\mbox{for all}\\quad n=1,\\ldots, N\n",
    "$$\n",
    "Denote the random variables $X$ and $Y$ as those corresponding to the examples $x_n$ and labels $y_n$ respectively."
   ]
  },
  {
   "cell_type": "markdown",
   "metadata": {},
   "source": [
    "## Least squares error\n",
    "\n",
    "We **specify** that we measure error using the squared loss $\\ell(y_n, f(x_n, \\theta)) = (y_n - f(x_n, \\theta))^2$ and minimise the empirical risk, which is the average of the losses over the data.\n",
    "$$\n",
    "\\min_\\theta \\frac{1}{N} \\sum_{n=1}^N (y_n - f(x_n, \\theta))^2\n",
    "$$\n",
    "There is a closed form solution for this, by solving the normal equations."
   ]
  },
  {
   "cell_type": "markdown",
   "metadata": {},
   "source": [
    "## Maximum likelihood\n",
    "\n",
    "We specify that conditional probability distribution of the labels given the examples, for the particular parameter setting $\\theta$. For example we **specify that the conditional distribution** is Poisson with mean $\\lambda := \\exp(\\theta^\\top x)$. If we assume the conditional distribution is Gaussian, we recover the least squares approach above.\n",
    "$$\n",
    "\\mathbb{E}(Y | X) \\sim \\mathrm{Pois}(\\lambda)\n",
    "$$\n",
    "That is we consider a generalised linear model with the logarithm as a link function\n",
    "$$\n",
    "\\mathbb{E}(Y|X) = \\exp(\\theta^\\top x_n).\n",
    "$$\n",
    "The probability mass function of the Poisson distribution is given by\n",
    "\\begin{align*}\n",
    "p(y|x,\\theta) &= \\frac{\\lambda^y}{y!}\\exp(-\\lambda) = \\frac{\\exp(\\theta^\\top x)^y}{y!}\\exp(-\\exp(\\theta^\\top x))\\\\\n",
    "&= \\frac{\\exp(y\\theta^\\top x - \\exp(\\theta^\\top x))}{y!}\n",
    "\\end{align*}\n",
    "We **assume that the data is independent** and hence the joint probability (likelihood) factorises\n",
    "$$\n",
    "p(y_1, \\ldots, y_N | x_1, \\ldots, x_N, \\theta) = \\prod_{n=1}^N p(y_n|x_n, \\theta).\n",
    "$$\n",
    "Finding the maximum likelihood parameter $\\theta$ involves finding $\\theta$ where the above equation is maximised. For optimisation reasons we (equivalently) solve for the minimum of the negative log likelihood.\n",
    "$$\n",
    "\\min_\\theta - \\log \\prod_{n=1}^N p(y_n|x_n, \\theta)\n",
    "$$\n",
    "Substituting the definition of the Poisson pmf and few steps of algebra results in\n",
    "$$\n",
    "\\min_\\theta \\sum_{n=1}^N \\left(\\exp(\\theta^\\top x_n) - y_n\\theta^\\top x_n\\right)\n",
    "$$\n",
    "There is no closed form solution for solving the gradient set to zero, and hence some optimisation method needs to be applied."
   ]
  },
  {
   "cell_type": "markdown",
   "metadata": {},
   "source": [
    "## Method of Moments"
   ]
  },
  {
   "cell_type": "markdown",
   "metadata": {},
   "source": [
    "## Estimating Equations"
   ]
  },
  {
   "cell_type": "code",
   "execution_count": null,
   "metadata": {
    "collapsed": true
   },
   "outputs": [],
   "source": []
  }
 ],
 "metadata": {
  "anaconda-cloud": {},
  "kernelspec": {
   "display_name": "Python [conda root]",
   "language": "python",
   "name": "conda-root-py"
  },
  "language_info": {
   "codemirror_mode": {
    "name": "ipython",
    "version": 3
   },
   "file_extension": ".py",
   "mimetype": "text/x-python",
   "name": "python",
   "nbconvert_exporter": "python",
   "pygments_lexer": "ipython3",
   "version": "3.5.2"
  }
 },
 "nbformat": 4,
 "nbformat_minor": 2
}
